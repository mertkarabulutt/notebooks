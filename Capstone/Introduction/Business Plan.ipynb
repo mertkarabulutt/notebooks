{
    "cells": [
        {
            "metadata": {
                "collapsed": true
            },
            "cell_type": "markdown",
            "source": "# Introduction/Business Plan"
        },
        {
            "metadata": {},
            "cell_type": "markdown",
            "source": "The aim of this project is to use density based clustering (DBSCAN) to identify accident hotspots in central London. In this way, we can identify the most dangerous zones in the city for traffic and make sure the municipality can take action according to our analyzed data. This solution will provide valuable insight to municipality teams to take the necessary action. In conclusion, there will be less property damage and more safety in traffic."
        }
    ],
    "metadata": {
        "kernelspec": {
            "name": "python3",
            "display_name": "Python 3.6",
            "language": "python"
        },
        "language_info": {
            "name": "python",
            "version": "3.6.9",
            "mimetype": "text/x-python",
            "codemirror_mode": {
                "name": "ipython",
                "version": 3
            },
            "pygments_lexer": "ipython3",
            "nbconvert_exporter": "python",
            "file_extension": ".py"
        }
    },
    "nbformat": 4,
    "nbformat_minor": 1
}